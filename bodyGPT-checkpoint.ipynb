{
 "cells": [
  {
   "cell_type": "code",
   "execution_count": 4,
   "id": "6e0d5b56-e4ac-439a-965c-d9494feb922c",
   "metadata": {},
   "outputs": [],
   "source": [
    "import mediapipe as mp\n",
    "import cv2\n",
    "import numpy as np\n",
    "import csv\n",
    "import os\n",
    "from matplotlib import pyplot as plt\n",
    "import pandas as pd"
   ]
  },
  {
   "cell_type": "code",
   "execution_count": 5,
   "id": "455fa1ba-7e9d-42bd-a7cc-b1ca00bc8345",
   "metadata": {},
   "outputs": [],
   "source": [
    "import pandas as pd\n",
    "from sklearn.model_selection import train_test_split\n",
    "from sklearn import preprocessing, utils"
   ]
  },
  {
   "cell_type": "code",
   "execution_count": 6,
   "id": "7e3c0b4e-6192-4142-8976-4520203edca5",
   "metadata": {},
   "outputs": [],
   "source": []
  },
  {
   "cell_type": "code",
   "execution_count": 14,
   "id": "ce601334-e4d1-4ac6-9142-b65f97b5a2d4",
   "metadata": {
    "jupyter": {
     "source_hidden": true
    },
    "scrolled": true
   },
   "outputs": [
    {
     "name": "stdout",
     "output_type": "stream",
     "text": [
      "Pose up saved.\n",
      "Pose up saved.\n",
      "Pose up saved.\n",
      "Pose up saved.\n",
      "Pose up saved.\n",
      "Pose up saved.\n",
      "Pose up saved.\n",
      "Pose up saved.\n",
      "Pose up saved.\n",
      "Pose up saved.\n",
      "Pose up saved.\n",
      "Pose up saved.\n",
      "Pose up saved.\n",
      "Pose up saved.\n",
      "Pose up saved.\n",
      "Pose up saved.\n",
      "Pose up saved.\n",
      "Pose up saved.\n",
      "Pose up saved.\n",
      "Pose up saved.\n",
      "Pose up saved.\n",
      "Pose up saved.\n",
      "Pose up saved.\n",
      "Pose up saved.\n",
      "Pose up saved.\n",
      "Pose up saved.\n",
      "Pose up saved.\n",
      "Pose up saved.\n",
      "Pose up saved.\n",
      "Pose up saved.\n",
      "Pose up saved.\n",
      "Pose up saved.\n",
      "Pose up saved.\n",
      "Pose up saved.\n",
      "Pose up saved.\n",
      "Pose up saved.\n",
      "Pose up saved.\n",
      "Pose up saved.\n",
      "Pose up saved.\n",
      "Pose up saved.\n",
      "Pose up saved.\n",
      "Pose up saved.\n",
      "Pose up saved.\n",
      "Pose up saved.\n",
      "Pose up saved.\n",
      "Pose up saved.\n",
      "Pose up saved.\n",
      "Pose up saved.\n",
      "Pose up saved.\n",
      "Pose up saved.\n",
      "Pose up saved.\n",
      "Pose up saved.\n",
      "Pose up saved.\n",
      "Pose up saved.\n",
      "Pose up saved.\n",
      "Pose up saved.\n",
      "Pose up saved.\n",
      "Pose up saved.\n",
      "Pose up saved.\n",
      "Pose up saved.\n",
      "Pose up saved.\n",
      "Pose up saved.\n",
      "Pose up saved.\n",
      "Pose up saved.\n",
      "Pose up saved.\n",
      "Pose up saved.\n",
      "Pose up saved.\n",
      "Pose up saved.\n",
      "Pose up saved.\n",
      "Pose up saved.\n",
      "Pose up saved.\n",
      "Pose up saved.\n",
      "Pose up saved.\n",
      "Pose up saved.\n",
      "Pose up saved.\n",
      "Pose up saved.\n",
      "Pose up saved.\n",
      "Pose up saved.\n",
      "Pose up saved.\n",
      "Pose up saved.\n",
      "Pose up saved.\n",
      "Pose up saved.\n",
      "Pose up saved.\n",
      "Pose up saved.\n",
      "Pose up saved.\n",
      "Pose up saved.\n",
      "Pose down saved.\n",
      "Pose down saved.\n",
      "Pose down saved.\n",
      "Pose down saved.\n",
      "Pose down saved.\n",
      "Pose down saved.\n",
      "Pose down saved.\n",
      "Pose down saved.\n",
      "Pose down saved.\n",
      "Pose down saved.\n",
      "Pose down saved.\n",
      "Pose down saved.\n",
      "Pose down saved.\n",
      "Pose down saved.\n",
      "Pose down saved.\n",
      "Pose down saved.\n",
      "Pose down saved.\n",
      "Pose down saved.\n",
      "Pose down saved.\n",
      "Pose down saved.\n",
      "Pose down saved.\n",
      "Pose down saved.\n",
      "Pose down saved.\n",
      "Pose down saved.\n",
      "Pose down saved.\n",
      "Pose down saved.\n",
      "Pose down saved.\n",
      "Pose down saved.\n",
      "Pose down saved.\n",
      "Pose down saved.\n",
      "Pose down saved.\n",
      "Pose down saved.\n",
      "Pose down saved.\n",
      "Pose down saved.\n",
      "Pose down saved.\n",
      "Pose down saved.\n",
      "Pose down saved.\n",
      "Pose down saved.\n",
      "Pose down saved.\n",
      "Pose down saved.\n",
      "Pose down saved.\n",
      "Pose down saved.\n",
      "Pose down saved.\n",
      "Pose down saved.\n"
     ]
    }
   ],
   "source": [
    "import cv2\n",
    "import mediapipe as mp\n",
    "import csv\n",
    "\n",
    "# Initialize MediaPipe Pose model\n",
    "mp_pose = mp.solutions.pose\n",
    "pose = mp_pose.Pose()\n",
    "\n",
    "# Initialize MediaPipe Drawing module\n",
    "mp_drawing = mp.solutions.drawing_utils\n",
    "\n",
    "# Initialize webcam\n",
    "cap = cv2.VideoCapture(0)\n",
    "\n",
    "# Create CSV file for saving poses\n",
    "csv_file = open('poses.csv', 'w', newline='')\n",
    "csv_writer = csv.writer(csv_file)\n",
    "csv_writer.writerow(['Pose', 'Landmark', 'X', 'Y', 'Z', 'Visibility'])\n",
    "\n",
    "# Flag to determine if 'u' or 'd' was pressed\n",
    "current_pose = None\n",
    "\n",
    "while cap.isOpened():\n",
    "    ret, frame = cap.read()\n",
    "\n",
    "    # Convert the BGR image to RGB\n",
    "    rgb_frame = cv2.cvtColor(frame, cv2.COLOR_BGR2RGB)\n",
    "\n",
    "    # Process the image and get pose estimation\n",
    "    results = pose.process(rgb_frame)\n",
    "\n",
    "    if results.pose_landmarks:\n",
    "        # Extract pose landmarks\n",
    "        landmarks = results.pose_landmarks.landmark\n",
    "\n",
    "        # Check if 'u' or 'd' is pressed\n",
    "        key = cv2.waitKey(1)\n",
    "        if key == ord('u'):\n",
    "            current_pose = 'up'\n",
    "        elif key == ord('d'):\n",
    "            current_pose = 'down'\n",
    "\n",
    "        # Save the pose data in the CSV file\n",
    "        if current_pose:\n",
    "            for i, lm in enumerate(landmarks):\n",
    "                x, y, z, visibility = lm.x, lm.y, lm.z, lm.visibility\n",
    "                csv_writer.writerow([current_pose, f'Landmark_{i}', x, y, z, visibility])\n",
    "            print(f'Pose {current_pose} saved.')\n",
    "\n",
    "        # Draw landmarks on the image\n",
    "        mp_drawing.draw_landmarks(frame, results.pose_landmarks, mp_pose.POSE_CONNECTIONS)\n",
    "\n",
    "        cv2.imshow('Pose Estimation', frame)\n",
    "\n",
    "        if key == 27:  # Press 'Esc' to exit\n",
    "            break\n",
    "\n",
    "# Release resources\n",
    "cap.release()\n",
    "cv2.destroyAllWindows()\n",
    "csv_file.close()\n"
   ]
  },
  {
   "cell_type": "code",
   "execution_count": 15,
   "id": "e48c3baf-9c8b-488d-a296-33e8eed5d2ca",
   "metadata": {},
   "outputs": [],
   "source": [
    "df = pd.read_csv('poses.csv')"
   ]
  },
  {
   "cell_type": "code",
   "execution_count": 16,
   "id": "f866b768-4f61-4901-b882-aaeee8f2a0be",
   "metadata": {},
   "outputs": [
    {
     "data": {
      "text/html": [
       "<div>\n",
       "<style scoped>\n",
       "    .dataframe tbody tr th:only-of-type {\n",
       "        vertical-align: middle;\n",
       "    }\n",
       "\n",
       "    .dataframe tbody tr th {\n",
       "        vertical-align: top;\n",
       "    }\n",
       "\n",
       "    .dataframe thead th {\n",
       "        text-align: right;\n",
       "    }\n",
       "</style>\n",
       "<table border=\"1\" class=\"dataframe\">\n",
       "  <thead>\n",
       "    <tr style=\"text-align: right;\">\n",
       "      <th></th>\n",
       "      <th>Pose</th>\n",
       "      <th>Landmark</th>\n",
       "      <th>X</th>\n",
       "      <th>Y</th>\n",
       "      <th>Z</th>\n",
       "      <th>Visibility</th>\n",
       "    </tr>\n",
       "  </thead>\n",
       "  <tbody>\n",
       "    <tr>\n",
       "      <th>0</th>\n",
       "      <td>up</td>\n",
       "      <td>Landmark_0</td>\n",
       "      <td>0.648871</td>\n",
       "      <td>0.609540</td>\n",
       "      <td>-0.527242</td>\n",
       "      <td>0.998066</td>\n",
       "    </tr>\n",
       "    <tr>\n",
       "      <th>1</th>\n",
       "      <td>up</td>\n",
       "      <td>Landmark_1</td>\n",
       "      <td>0.659393</td>\n",
       "      <td>0.589310</td>\n",
       "      <td>-0.479037</td>\n",
       "      <td>0.997851</td>\n",
       "    </tr>\n",
       "    <tr>\n",
       "      <th>2</th>\n",
       "      <td>up</td>\n",
       "      <td>Landmark_2</td>\n",
       "      <td>0.666186</td>\n",
       "      <td>0.590466</td>\n",
       "      <td>-0.478814</td>\n",
       "      <td>0.997752</td>\n",
       "    </tr>\n",
       "    <tr>\n",
       "      <th>3</th>\n",
       "      <td>up</td>\n",
       "      <td>Landmark_3</td>\n",
       "      <td>0.673417</td>\n",
       "      <td>0.591906</td>\n",
       "      <td>-0.478714</td>\n",
       "      <td>0.997716</td>\n",
       "    </tr>\n",
       "    <tr>\n",
       "      <th>4</th>\n",
       "      <td>up</td>\n",
       "      <td>Landmark_4</td>\n",
       "      <td>0.638128</td>\n",
       "      <td>0.589407</td>\n",
       "      <td>-0.476463</td>\n",
       "      <td>0.998233</td>\n",
       "    </tr>\n",
       "  </tbody>\n",
       "</table>\n",
       "</div>"
      ],
      "text/plain": [
       "  Pose    Landmark         X         Y         Z  Visibility\n",
       "0   up  Landmark_0  0.648871  0.609540 -0.527242    0.998066\n",
       "1   up  Landmark_1  0.659393  0.589310 -0.479037    0.997851\n",
       "2   up  Landmark_2  0.666186  0.590466 -0.478814    0.997752\n",
       "3   up  Landmark_3  0.673417  0.591906 -0.478714    0.997716\n",
       "4   up  Landmark_4  0.638128  0.589407 -0.476463    0.998233"
      ]
     },
     "execution_count": 16,
     "metadata": {},
     "output_type": "execute_result"
    }
   ],
   "source": [
    "df.head()"
   ]
  },
  {
   "cell_type": "code",
   "execution_count": 17,
   "id": "c9bb1a40-8aaf-467e-9e97-72faf9394430",
   "metadata": {},
   "outputs": [
    {
     "data": {
      "text/plain": [
       "0         up\n",
       "1         up\n",
       "2         up\n",
       "3         up\n",
       "4         up\n",
       "        ... \n",
       "4285    down\n",
       "4286    down\n",
       "4287    down\n",
       "4288    down\n",
       "4289    down\n",
       "Name: Pose, Length: 4290, dtype: object"
      ]
     },
     "execution_count": 17,
     "metadata": {},
     "output_type": "execute_result"
    }
   ],
   "source": [
    "df['Pose']"
   ]
  },
  {
   "cell_type": "code",
   "execution_count": 20,
   "id": "cc5d5641-6156-434b-8e43-c2380472f26f",
   "metadata": {},
   "outputs": [],
   "source": [
    "df['class'] = df['Pose'].apply(lambda x: 1 if x=='up' else 0)"
   ]
  },
  {
   "cell_type": "code",
   "execution_count": 21,
   "id": "2482dca8-3944-4b69-9e71-b6fd1a718324",
   "metadata": {},
   "outputs": [
    {
     "data": {
      "text/plain": [
       "0       1\n",
       "1       1\n",
       "2       1\n",
       "3       1\n",
       "4       1\n",
       "       ..\n",
       "4285    0\n",
       "4286    0\n",
       "4287    0\n",
       "4288    0\n",
       "4289    0\n",
       "Name: class, Length: 4290, dtype: int64"
      ]
     },
     "execution_count": 21,
     "metadata": {},
     "output_type": "execute_result"
    }
   ],
   "source": [
    "df['class']"
   ]
  },
  {
   "cell_type": "code",
   "execution_count": 22,
   "id": "8efa0342-897d-4998-a7ee-f5d419ddd4e7",
   "metadata": {},
   "outputs": [
    {
     "data": {
      "text/html": [
       "<div>\n",
       "<style scoped>\n",
       "    .dataframe tbody tr th:only-of-type {\n",
       "        vertical-align: middle;\n",
       "    }\n",
       "\n",
       "    .dataframe tbody tr th {\n",
       "        vertical-align: top;\n",
       "    }\n",
       "\n",
       "    .dataframe thead th {\n",
       "        text-align: right;\n",
       "    }\n",
       "</style>\n",
       "<table border=\"1\" class=\"dataframe\">\n",
       "  <thead>\n",
       "    <tr style=\"text-align: right;\">\n",
       "      <th></th>\n",
       "      <th>Pose</th>\n",
       "      <th>Landmark</th>\n",
       "      <th>X</th>\n",
       "      <th>Y</th>\n",
       "      <th>Z</th>\n",
       "      <th>Visibility</th>\n",
       "      <th>class</th>\n",
       "    </tr>\n",
       "  </thead>\n",
       "  <tbody>\n",
       "    <tr>\n",
       "      <th>0</th>\n",
       "      <td>up</td>\n",
       "      <td>Landmark_0</td>\n",
       "      <td>0.648871</td>\n",
       "      <td>0.609540</td>\n",
       "      <td>-0.527242</td>\n",
       "      <td>0.998066</td>\n",
       "      <td>1</td>\n",
       "    </tr>\n",
       "    <tr>\n",
       "      <th>1</th>\n",
       "      <td>up</td>\n",
       "      <td>Landmark_1</td>\n",
       "      <td>0.659393</td>\n",
       "      <td>0.589310</td>\n",
       "      <td>-0.479037</td>\n",
       "      <td>0.997851</td>\n",
       "      <td>1</td>\n",
       "    </tr>\n",
       "    <tr>\n",
       "      <th>2</th>\n",
       "      <td>up</td>\n",
       "      <td>Landmark_2</td>\n",
       "      <td>0.666186</td>\n",
       "      <td>0.590466</td>\n",
       "      <td>-0.478814</td>\n",
       "      <td>0.997752</td>\n",
       "      <td>1</td>\n",
       "    </tr>\n",
       "    <tr>\n",
       "      <th>3</th>\n",
       "      <td>up</td>\n",
       "      <td>Landmark_3</td>\n",
       "      <td>0.673417</td>\n",
       "      <td>0.591906</td>\n",
       "      <td>-0.478714</td>\n",
       "      <td>0.997716</td>\n",
       "      <td>1</td>\n",
       "    </tr>\n",
       "    <tr>\n",
       "      <th>4</th>\n",
       "      <td>up</td>\n",
       "      <td>Landmark_4</td>\n",
       "      <td>0.638128</td>\n",
       "      <td>0.589407</td>\n",
       "      <td>-0.476463</td>\n",
       "      <td>0.998233</td>\n",
       "      <td>1</td>\n",
       "    </tr>\n",
       "  </tbody>\n",
       "</table>\n",
       "</div>"
      ],
      "text/plain": [
       "  Pose    Landmark         X         Y         Z  Visibility  class\n",
       "0   up  Landmark_0  0.648871  0.609540 -0.527242    0.998066      1\n",
       "1   up  Landmark_1  0.659393  0.589310 -0.479037    0.997851      1\n",
       "2   up  Landmark_2  0.666186  0.590466 -0.478814    0.997752      1\n",
       "3   up  Landmark_3  0.673417  0.591906 -0.478714    0.997716      1\n",
       "4   up  Landmark_4  0.638128  0.589407 -0.476463    0.998233      1"
      ]
     },
     "execution_count": 22,
     "metadata": {},
     "output_type": "execute_result"
    }
   ],
   "source": [
    "df.head()"
   ]
  },
  {
   "cell_type": "code",
   "execution_count": 26,
   "id": "96c3736a-ea89-43d3-86fb-c63701cd7e00",
   "metadata": {},
   "outputs": [],
   "source": [
    "df.drop('Pose',axis=1,inplace=True)"
   ]
  },
  {
   "cell_type": "code",
   "execution_count": 36,
   "id": "2656c98e-af3c-4778-a4e6-a4d8aa7b9017",
   "metadata": {},
   "outputs": [],
   "source": [
    "df.head()\n",
    "df.drop('Landmark',axis=1,inplace=True)"
   ]
  },
  {
   "cell_type": "code",
   "execution_count": 37,
   "id": "d5d3f66e-cda6-414a-a5fb-c3ac5ec91b07",
   "metadata": {},
   "outputs": [],
   "source": [
    "X = df.drop('class', axis = 1)\n",
    "y = df['class']\n",
    "\n",
    "X_train, X_test, y_train, y_test = train_test_split(X,y,test_size = 0.3, random_state = 1234)"
   ]
  },
  {
   "cell_type": "code",
   "execution_count": 38,
   "id": "8e793042-89a3-4d19-97e9-15fa41285de6",
   "metadata": {},
   "outputs": [
    {
     "data": {
      "text/plain": [
       "(3003, 1287, 3003, 1287)"
      ]
     },
     "execution_count": 38,
     "metadata": {},
     "output_type": "execute_result"
    }
   ],
   "source": [
    "len(X_train), len(X_test), len(y_train), len(y_test)"
   ]
  },
  {
   "cell_type": "code",
   "execution_count": 39,
   "id": "2867ed40-09dd-4f39-a428-ec33c500635b",
   "metadata": {},
   "outputs": [],
   "source": [
    "from sklearn.pipeline import make_pipeline\n",
    "from sklearn.preprocessing import StandardScaler\n",
    "from sklearn.linear_model import LogisticRegression, RidgeClassifier\n",
    "from sklearn.ensemble import RandomForestClassifier, GradientBoostingClassifier\n",
    "from sklearn.impute import SimpleImputer\n",
    "from sklearn.ensemble import HistGradientBoostingClassifier"
   ]
  },
  {
   "cell_type": "code",
   "execution_count": 40,
   "id": "dd4d8aea-6b13-4db2-a34d-dd76a03241bb",
   "metadata": {},
   "outputs": [],
   "source": [
    "pipelines = {\n",
    "    'lr': make_pipeline(StandardScaler(), LogisticRegression()),\n",
    "    'rc': make_pipeline(StandardScaler(), RidgeClassifier()),\n",
    "    'rf': make_pipeline(StandardScaler(), RandomForestClassifier()),\n",
    "    'gb': make_pipeline(StandardScaler(), GradientBoostingClassifier()),\n",
    "}"
   ]
  },
  {
   "cell_type": "code",
   "execution_count": 41,
   "id": "c5b23002-c628-49f9-b038-9af5b02a9ede",
   "metadata": {},
   "outputs": [],
   "source": [
    "fit_models = {}\n",
    "try:\n",
    "    for algo, pipeline in pipelines.items():\n",
    "        model = pipeline.fit(X_train, y_train)\n",
    "        fit_models[algo] = model\n",
    "\n",
    "except Exception as e:\n",
    "    print(e)"
   ]
  },
  {
   "cell_type": "code",
   "execution_count": 42,
   "id": "1c5d5c2c-2515-4835-9ddd-7a2926f8d59d",
   "metadata": {},
   "outputs": [
    {
     "data": {
      "text/plain": [
       "{'lr': Pipeline(steps=[('standardscaler', StandardScaler()),\n",
       "                 ('logisticregression', LogisticRegression())]),\n",
       " 'rc': Pipeline(steps=[('standardscaler', StandardScaler()),\n",
       "                 ('ridgeclassifier', RidgeClassifier())]),\n",
       " 'rf': Pipeline(steps=[('standardscaler', StandardScaler()),\n",
       "                 ('randomforestclassifier', RandomForestClassifier())]),\n",
       " 'gb': Pipeline(steps=[('standardscaler', StandardScaler()),\n",
       "                 ('gradientboostingclassifier', GradientBoostingClassifier())])}"
      ]
     },
     "execution_count": 42,
     "metadata": {},
     "output_type": "execute_result"
    }
   ],
   "source": [
    "fit_models"
   ]
  },
  {
   "cell_type": "code",
   "execution_count": 43,
   "id": "498ba216-1e9e-4942-843d-6d1a224c5239",
   "metadata": {},
   "outputs": [
    {
     "data": {
      "text/plain": [
       "array([0, 0, 0, ..., 0, 1, 1], dtype=int64)"
      ]
     },
     "execution_count": 43,
     "metadata": {},
     "output_type": "execute_result"
    }
   ],
   "source": [
    "fit_models['rf'].predict(X_test)"
   ]
  },
  {
   "cell_type": "code",
   "execution_count": 44,
   "id": "6fbc41f5-410d-476a-90ac-546004ea98ca",
   "metadata": {},
   "outputs": [],
   "source": [
    "from sklearn.metrics import accuracy_score, precision_score, recall_score\n",
    "import pickle"
   ]
  },
  {
   "cell_type": "code",
   "execution_count": 46,
   "id": "f80bd9c9-38a7-4ceb-9226-9894b43a0f89",
   "metadata": {},
   "outputs": [
    {
     "name": "stdout",
     "output_type": "stream",
     "text": [
      "lr 0.7350427350427351 0.747148288973384 0.9128919860627178\n",
      "rc 0.7334887334887334 0.7448015122873346 0.9152148664343787\n",
      "rf 0.986013986013986 0.9872832369942196 0.991869918699187\n",
      "gb 0.9627039627039627 0.9593220338983051 0.9860627177700348\n"
     ]
    }
   ],
   "source": [
    "for algo, model in fit_models.items():\n",
    "    yhat = model.predict(X_test)\n",
    "    print(\n",
    "        algo,\n",
    "        accuracy_score(y_test, yhat),\n",
    "        precision_score(y_test, yhat, average=\"binary\", pos_label=1),\n",
    "        recall_score(y_test.values, yhat, average=\"binary\", pos_label=1))"
   ]
  },
  {
   "cell_type": "code",
   "execution_count": null,
   "id": "e97e20ab-163c-48de-91b2-23f5d41617d0",
   "metadata": {},
   "outputs": [],
   "source": []
  }
 ],
 "metadata": {
  "kernelspec": {
   "display_name": "Python 3 (ipykernel)",
   "language": "python",
   "name": "python3"
  },
  "language_info": {
   "codemirror_mode": {
    "name": "ipython",
    "version": 3
   },
   "file_extension": ".py",
   "mimetype": "text/x-python",
   "name": "python",
   "nbconvert_exporter": "python",
   "pygments_lexer": "ipython3",
   "version": "3.11.6"
  }
 },
 "nbformat": 4,
 "nbformat_minor": 5
}
